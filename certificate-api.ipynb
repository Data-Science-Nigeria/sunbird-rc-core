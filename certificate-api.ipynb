{
 "cells": [
  {
   "cell_type": "code",
   "id": "f0d66103",
   "metadata": {
    "ExecuteTime": {
     "end_time": "2024-09-16T08:19:43.611621Z",
     "start_time": "2024-09-16T08:19:43.480001Z"
    }
   },
   "source": [
    "import requests\n",
    "import random\n",
    "import json\n",
    "\n",
    "base_url = \"http://localhost:8081\"\n",
    "\n",
    "resp = requests.get(base_url)\n",
    "assert resp.status_code == 404\n",
    "assert resp.json()[\"status\"] == 404\n",
    "assert resp.json()[\"error\"] == \"Not Found\"\n"
   ],
   "outputs": [],
   "execution_count": 1
  },
  {
   "cell_type": "code",
   "id": "fc57f642",
   "metadata": {
    "ExecuteTime": {
     "end_time": "2024-09-16T08:19:46.004159Z",
     "start_time": "2024-09-16T08:19:45.831171Z"
    }
   },
   "source": [
    "\n",
    "resp = requests.get(\"%s/api/docs/swagger.json\"%base_url)\n",
    "assert resp.status_code == 200\n",
    "assert resp.json()[\"swagger\"] == \"2.0\"\n",
    "assert resp.json()[\"paths\"] != None\n",
    "\n",
    "swaggerJson = resp.json()\n",
    "swaggerJson[\"paths\"].keys()\n",
    "\n",
    "jsonUrl = [f for f in swaggerJson[\"paths\"].keys() if \".json\" in f][0]\n",
    "jsonUrl\n",
    "\n",
    "resp = requests.get(\"%s%s\"%(base_url, jsonUrl))\n",
    "assert resp.status_code == 200\n"
   ],
   "outputs": [],
   "execution_count": 2
  },
  {
   "cell_type": "code",
   "id": "0e3b1059",
   "metadata": {
    "ExecuteTime": {
     "end_time": "2024-09-16T08:19:47.815770Z",
     "start_time": "2024-09-16T08:19:47.805757Z"
    }
   },
   "source": [
    "resp.json()"
   ],
   "outputs": [
    {
     "data": {
      "text/plain": [
       "{'SchoolCertificate': {'$id': '#/properties/SchoolCertificate',\n",
       "  'type': 'object',\n",
       "  'title': 'The School Certificate Schema',\n",
       "  'required': ['name', 'certificateName'],\n",
       "  'properties': {'name': {'type': 'string', 'title': 'Name of the Student'},\n",
       "   'studentId': {'type': 'integer', 'title': 'The ID of the Student'},\n",
       "   'certificateName': {'type': 'string',\n",
       "    'enum': ['Common Entrance',\n",
       "     'JSCE',\n",
       "     'Junior NECO',\n",
       "     'SSCE - WAEC',\n",
       "     'SSCE - NECO',\n",
       "     'SSCE - NABTEB',\n",
       "     'NCE',\n",
       "     'OND',\n",
       "     'HND',\n",
       "     'B.Sc',\n",
       "     'B.Ed',\n",
       "     'B.Tech',\n",
       "     'MBBS',\n",
       "     'B.A',\n",
       "     'LLB',\n",
       "     'PGDE',\n",
       "     'M.Sc',\n",
       "     'M.Tech',\n",
       "     'MBA',\n",
       "     'M.Ed',\n",
       "     'M.Ph',\n",
       "     'M.Phil',\n",
       "     'PhD.'],\n",
       "    'title': 'The name of the specific certificate to be issued to the student'},\n",
       "   'academicYear': {'type': 'string', 'title': 'Academic Year'},\n",
       "   'dateofaward': {'type': 'string',\n",
       "    'title': 'Date Of Award',\n",
       "    'format': 'date'}}}}"
      ]
     },
     "execution_count": 3,
     "metadata": {},
     "output_type": "execute_result"
    }
   ],
   "execution_count": 3
  },
  {
   "cell_type": "code",
   "id": "3343a6fe",
   "metadata": {
    "ExecuteTime": {
     "end_time": "2024-09-16T08:19:53.975450Z",
     "start_time": "2024-09-16T08:19:53.958910Z"
    }
   },
   "source": [
    "entities = list(resp.json().keys())\n",
    "print(\"Available entities \", entities)"
   ],
   "outputs": [
    {
     "name": "stdout",
     "output_type": "stream",
     "text": [
      "Available entities  ['SchoolCertificate']\n"
     ]
    }
   ],
   "execution_count": 4
  },
  {
   "cell_type": "code",
   "id": "41559bae",
   "metadata": {
    "ExecuteTime": {
     "end_time": "2024-09-16T08:19:57.131891Z",
     "start_time": "2024-09-16T08:19:57.128026Z"
    }
   },
   "source": [
    "entity_name=entities[0]\n",
    "print(\"Using entity %s\"%entity_name)\n"
   ],
   "outputs": [
    {
     "name": "stdout",
     "output_type": "stream",
     "text": [
      "Using entity SchoolCertificate\n"
     ]
    }
   ],
   "execution_count": 5
  },
  {
   "cell_type": "code",
   "id": "161ca6b9",
   "metadata": {
    "ExecuteTime": {
     "end_time": "2024-09-16T08:24:30.407617Z",
     "start_time": "2024-09-16T08:22:29.914937Z"
    }
   },
   "source": [
    "userId =str(random.randint(1e10,1e11))\n",
    "resp = requests.post(\"%s%s\"%(base_url, '/api/v1/%s'%entity_name), json={\n",
    "  \"name\": \"Sunbird Learner\",\n",
    "  \"certificateName\": \"Junior NECO\",\n",
    "  \"studentId\": 101,\n",
    "  \"academicYear\": \"2022/2023\",\n",
    "  \"dateofaward\": \"2024-09-16\"\n",
    "})\n",
    "assert resp.status_code == 200 or print (resp.json())\n",
    "idx = resp.json()[\"result\"][entity_name][\"osid\"]\n"
   ],
   "outputs": [
    {
     "name": "stdout",
     "output_type": "stream",
     "text": [
      "{'id': 'sunbird-rc.registry.post', 'ver': '1.0', 'ets': 1726474949931, 'params': {'resmsgid': '', 'msgid': '1704b3c8-5b6c-47df-95d7-31fb7865e53f', 'err': '', 'status': 'UNSUCCESSFUL', 'errmsg': 'java.lang.RuntimeException: Timeout lapsed to acquire write lock for notification.'}, 'responseCode': 'OK', 'result': {}}\n"
     ]
    },
    {
     "ename": "AssertionError",
     "evalue": "",
     "output_type": "error",
     "traceback": [
      "\u001B[0;31m---------------------------------------------------------------------------\u001B[0m",
      "\u001B[0;31mAssertionError\u001B[0m                            Traceback (most recent call last)",
      "Cell \u001B[0;32mIn[8], line 9\u001B[0m\n\u001B[1;32m      1\u001B[0m userId \u001B[38;5;241m=\u001B[39m\u001B[38;5;28mstr\u001B[39m(random\u001B[38;5;241m.\u001B[39mrandint(\u001B[38;5;241m1e10\u001B[39m,\u001B[38;5;241m1e11\u001B[39m))\n\u001B[1;32m      2\u001B[0m resp \u001B[38;5;241m=\u001B[39m requests\u001B[38;5;241m.\u001B[39mpost(\u001B[38;5;124m\"\u001B[39m\u001B[38;5;132;01m%s\u001B[39;00m\u001B[38;5;132;01m%s\u001B[39;00m\u001B[38;5;124m\"\u001B[39m\u001B[38;5;241m%\u001B[39m(base_url, \u001B[38;5;124m'\u001B[39m\u001B[38;5;124m/api/v1/\u001B[39m\u001B[38;5;132;01m%s\u001B[39;00m\u001B[38;5;124m'\u001B[39m\u001B[38;5;241m%\u001B[39mentity_name), json\u001B[38;5;241m=\u001B[39m{\n\u001B[1;32m      3\u001B[0m   \u001B[38;5;124m\"\u001B[39m\u001B[38;5;124mname\u001B[39m\u001B[38;5;124m\"\u001B[39m: \u001B[38;5;124m\"\u001B[39m\u001B[38;5;124mSunbird Learner\u001B[39m\u001B[38;5;124m\"\u001B[39m,\n\u001B[1;32m      4\u001B[0m   \u001B[38;5;124m\"\u001B[39m\u001B[38;5;124mcertificateName\u001B[39m\u001B[38;5;124m\"\u001B[39m: \u001B[38;5;124m\"\u001B[39m\u001B[38;5;124mJunior NECO\u001B[39m\u001B[38;5;124m\"\u001B[39m,\n\u001B[0;32m   (...)\u001B[0m\n\u001B[1;32m      7\u001B[0m   \u001B[38;5;124m\"\u001B[39m\u001B[38;5;124mdateofaward\u001B[39m\u001B[38;5;124m\"\u001B[39m: \u001B[38;5;124m\"\u001B[39m\u001B[38;5;124m2024-09-16\u001B[39m\u001B[38;5;124m\"\u001B[39m\n\u001B[1;32m      8\u001B[0m })\n\u001B[0;32m----> 9\u001B[0m \u001B[38;5;28;01massert\u001B[39;00m resp\u001B[38;5;241m.\u001B[39mstatus_code \u001B[38;5;241m==\u001B[39m \u001B[38;5;241m200\u001B[39m \u001B[38;5;129;01mor\u001B[39;00m \u001B[38;5;28mprint\u001B[39m (resp\u001B[38;5;241m.\u001B[39mjson())\n\u001B[1;32m     10\u001B[0m idx \u001B[38;5;241m=\u001B[39m resp\u001B[38;5;241m.\u001B[39mjson()[\u001B[38;5;124m\"\u001B[39m\u001B[38;5;124mresult\u001B[39m\u001B[38;5;124m\"\u001B[39m][entity_name][\u001B[38;5;124m\"\u001B[39m\u001B[38;5;124mosid\u001B[39m\u001B[38;5;124m\"\u001B[39m]\n",
      "\u001B[0;31mAssertionError\u001B[0m: "
     ]
    }
   ],
   "execution_count": 8
  },
  {
   "cell_type": "code",
   "id": "e73084c3",
   "metadata": {},
   "source": [
    "resp.json()\n"
   ],
   "outputs": [],
   "execution_count": null
  },
  {
   "cell_type": "code",
   "id": "345cfbf2",
   "metadata": {},
   "source": [
    "print(resp.json())\n",
    "resp.status_code, userId\n"
   ],
   "outputs": [],
   "execution_count": null
  },
  {
   "cell_type": "code",
   "id": "e880f599",
   "metadata": {},
   "source": [
    "resp = requests.get(\"%s/api/v1/%s/%s\"%(base_url, entity_name, idx), headers={\"Accept\":\"application/vc+ld+json\"})\n",
    "print(json.dumps(resp.json()))\n",
    "assert resp.json()[\"proof\"][\"type\"] == \"Ed25519Signature2018\"\n"
   ],
   "outputs": [],
   "execution_count": null
  },
  {
   "cell_type": "code",
   "id": "932efa6f",
   "metadata": {},
   "source": [
    "resp = requests.get(\"%s/api/v1/%s/%s\"%(base_url, entity_name, idx), headers={\"Accept\":\"application/pdf\"})\n"
   ],
   "outputs": [],
   "execution_count": null
  },
  {
   "cell_type": "code",
   "id": "f6854518",
   "metadata": {},
   "source": [
    "resp.status_code, resp.content\n",
    "\n",
    "assert resp.content[:5].decode().startswith(\"%PDF\")\n",
    "with open('sample.pdf', 'wb') as f:\n",
    "    f.write(resp.content)\n",
    "    "
   ],
   "outputs": [],
   "execution_count": null
  },
  {
   "cell_type": "code",
   "id": "3fdae280",
   "metadata": {},
   "source": [
    "%system open 'sample.pdf'\n"
   ],
   "outputs": [],
   "execution_count": null
  },
  {
   "cell_type": "code",
   "id": "66ade90a",
   "metadata": {},
   "source": [
    "resp = requests.get(\"%s/api/v1/%s/%s\"%(base_url, entity_name, idx), headers={\"Accept\":\"text/html\"})\n",
    "resp.status_code, resp.content\n",
    "\n",
    "assert resp.content[:5].decode().startswith(\"<html\")\n",
    "with open('sample.html', 'wb') as f:\n",
    "    f.write(resp.content)\n",
    "%system open 'sample.html'\n"
   ],
   "outputs": [],
   "execution_count": null
  },
  {
   "cell_type": "code",
   "id": "7d546807",
   "metadata": {},
   "source": [
    "resp = requests.get(\"%s/api/v1/%s/%s\"%(base_url, entity_name, idx), headers={\"Accept\":\"image/svg+xml\"})\n",
    "resp.status_code, resp.content\n",
    "\n",
    "assert resp.content.decode().find(\"<svg\") != -1\n",
    "with open('sample.svg', 'wb') as f:\n",
    "    f.write(resp.content)\n",
    "%system open 'sample.svg'"
   ],
   "outputs": [],
   "execution_count": null
  },
  {
   "cell_type": "code",
   "id": "ba6dd127",
   "metadata": {},
   "source": [],
   "outputs": [],
   "execution_count": null
  },
  {
   "cell_type": "markdown",
   "id": "daf81eb1",
   "metadata": {},
   "source": [
    "# generate certificate by external templates"
   ]
  },
  {
   "cell_type": "code",
   "id": "e92fc1bc",
   "metadata": {},
   "source": [
    "resp = requests.get(\"%s/api/v1/%s/%s\"%(base_url, entity_name, idx), headers={\"Accept\":\"application/pdf\", \"template\": \"https://raw.githubusercontent.com/dileepbapat/ref-sunbirdrc-certificate/main/schemas/templates/TrainingCertificate.html\"})\n",
    "resp.status_code, resp.content\n",
    "\n",
    "assert resp.content[:5].decode().startswith(\"%PDF\")\n",
    "with open('sample_external.pdf', 'wb') as f:\n",
    "    f.write(resp.content)\n",
    "%system open 'sample_external.pdf'\n"
   ],
   "outputs": [],
   "execution_count": null
  },
  {
   "cell_type": "markdown",
   "id": "8ffd2fb7",
   "metadata": {},
   "source": [
    "# delete certificate"
   ]
  },
  {
   "cell_type": "code",
   "id": "3f33479a",
   "metadata": {},
   "source": [
    "esp = requests.delete(\"%s/api/v1/%s/%s\"%(base_url, entity_name, idx), headers={\"Accept\":\"application/json\"})\n",
    "print(resp.status_code)\n",
    "assert resp.status_code == 200\n",
    "resp = requests.get(\"%s/api/v1/%s/%s\"%(base_url, entity_name, idx), headers={\"Accept\":\"application/json\"})\n",
    "print(json.dumps(resp.json()))\n",
    "assert resp.json()[\"params\"][\"errmsg\"] == \"entity status is inactive\"\n"
   ],
   "outputs": [],
   "execution_count": null
  },
  {
   "cell_type": "markdown",
   "id": "d5d85e9c",
   "metadata": {},
   "source": [
    "# generate credentials with external template"
   ]
  },
  {
   "cell_type": "code",
   "id": "5b802f08",
   "metadata": {},
   "source": [
    "userId =str(random.randint(1e10,1e11))\n",
    "resp = requests.post(\"%s%s\"%(base_url, '/api/v1/SkillCertificate'), json={\n",
    "    \"name\":\"Sunbird Learner\", \n",
    "    \"contact\": userId, \n",
    "    \"trainingTitle\":\"Sunbird RC Certificate Module\",\n",
    "    \"skills\": [\n",
    "        {\n",
    "            \"skill\": \"computer training\",\n",
    "            \"certifiedOn\": \"12-12-2000\"\n",
    "        },\n",
    "        {\n",
    "            \"skill\": \"network training\",\n",
    "            \"certifiedOn\": \"12-11-2000\"\n",
    "        }\n",
    "\n",
    "    ]\n",
    "    \n",
    "})\n",
    "assert resp.status_code == 200 or print (resp.json())\n",
    "idx = resp.json()[\"result\"][\"SkillCertificate\"][\"osid\"]\n",
    "print(resp.json())"
   ],
   "outputs": [],
   "execution_count": null
  },
  {
   "cell_type": "code",
   "id": "6240b8ed",
   "metadata": {},
   "source": [
    "resp = requests.get(\"%s/api/v1/%s/%s\"%(base_url, 'SkillCertificate', idx), headers={\"Accept\":\"application/vc+ld+json\"})\n",
    "print(json.dumps(resp.json()))\n",
    "assert resp.json()[\"proof\"][\"type\"] == \"Ed25519Signature2018\"\n"
   ],
   "outputs": [],
   "execution_count": null
  },
  {
   "cell_type": "code",
   "id": "b0fdb33b",
   "metadata": {},
   "source": [
    "resp = requests.get(\"%s/api/v1/%s/%s\"%(base_url, 'SkillCertificate', idx), headers={\"Accept\":\"application/pdf\", \"template\": \"http://localhost:63342/sunbird-rc/registry/public/_schemas/templates/SkillCertificate.html?_ijt=qu4536mc0j899963igug2gitf0\"})\n",
    "\n",
    "resp.status_code, resp.content\n",
    "print(resp)\n",
    "assert resp.content[:5].decode().startswith(\"%PDF\")\n",
    "with open('sample1.pdf', 'wb') as f:\n",
    "    f.write(resp.content)\n",
    "    \n",
    "%system open 'sample1.pdf'\n"
   ],
   "outputs": [],
   "execution_count": null
  },
  {
   "cell_type": "code",
   "id": "c2d53e0d",
   "metadata": {},
   "source": [],
   "outputs": [],
   "execution_count": null
  }
 ],
 "metadata": {
  "kernelspec": {
   "display_name": "Python 3 (ipykernel)",
   "language": "python",
   "name": "python3"
  },
  "language_info": {
   "codemirror_mode": {
    "name": "ipython",
    "version": 3
   },
   "file_extension": ".py",
   "mimetype": "text/x-python",
   "name": "python",
   "nbconvert_exporter": "python",
   "pygments_lexer": "ipython3",
   "version": "3.9.5"
  }
 },
 "nbformat": 4,
 "nbformat_minor": 5
}
